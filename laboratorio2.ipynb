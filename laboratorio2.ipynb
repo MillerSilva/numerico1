{
 "cells": [
  {
   "cell_type": "markdown",
   "metadata": {},
   "source": [
    "# Laboratorio 2: Condicionamiento\n",
    "## Cálculo del número de condición de una matriz"
   ]
  },
  {
   "cell_type": "code",
   "execution_count": 2,
   "metadata": {},
   "outputs": [
    {
     "name": "stdout",
     "output_type": "stream",
     "text": [
      "[[ 1  0 -1]\n",
      " [ 0  1  0]\n",
      " [ 1  0  1]]\n",
      "cond(a)=1.4142135623730951\n",
      "cond(a,'fro')=3.1622776601683795\n"
     ]
    }
   ],
   "source": [
    "import numpy as np\n",
    "### numero de condicion ######\n",
    "from numpy import linalg as LA\n",
    "a = np.array([[1, 0, -1], [0, 1, 0], [1, 0, 1]])\n",
    "print(a)\n",
    "print(\"cond(a)={0}\".format(LA.cond(a)))\n",
    "print(\"cond(a,'fro')={0}\".format(LA.cond(a, 'fro')))"
   ]
  },
  {
   "cell_type": "markdown",
   "metadata": {},
   "source": [
    "## Matriz mal condicionada "
   ]
  },
  {
   "cell_type": "code",
   "execution_count": 4,
   "metadata": {},
   "outputs": [
    {
     "name": "stdout",
     "output_type": "stream",
     "text": [
      "cond(a)=166.6673333573341\n",
      "Solucion inicial =[   1. -100.] \n",
      "Solucion perturbada =[  1.14285714 -85.71428571] \n"
     ]
    }
   ],
   "source": [
    "a = np.array([[1, -.01], [2, .01]])\n",
    "print(\"cond(a)={0}\".format(LA.cond(a)))\n",
    "#### queremos resolver ax=y\n",
    "####                   (a+da)x=y\n",
    "y = np.array([2,1]).reshape((2, 1))\n",
    "da= np.array([[0, 0], [0, .005]])\n",
    "x0 = np.linalg.solve(a, y)\n",
    "x1 = np.linalg.solve(a+da, y)\n",
    "\n",
    "print(\"Solucion inicial ={0} \".format(x0.reshape(2,)))\n",
    "\n",
    "print(\"Solucion perturbada ={0} \".format(x1.reshape(2,)))\n",
    "\n"
   ]
  },
  {
   "cell_type": "markdown",
   "metadata": {},
   "source": [
    "## Número de condición de una función"
   ]
  },
  {
   "cell_type": "code",
   "execution_count": null,
   "metadata": {},
   "outputs": [],
   "source": [
    "### numero de condicion de una funcion######\n",
    "w_roots=np.arange(1,21)\n",
    "W=np.poly(w_roots)\n",
    "perturb=np.zeros_like(W)\n",
    "perturb[1]=1e-7\n",
    "W_perturb = W + perturb\n",
    "perturbed_roots=np.roots(W_perturb)\n",
    "w_roots = np.sort(w_roots)\n",
    "perturbed_roots = np.sort(perturbed_roots)\n",
    "print((LA.norm(perturbed_roots-w_roots)/\n",
    "    LA.norm(perturb)))\n",
    "######################################################\n",
    "# Esta directiva habilita los graficos en notebook \n",
    "%matplotlib inline\n",
    "######################################################\n",
    "import matplotlib.pyplot as plt\n",
    "plt.plot(w_roots,np.zeros_like(w_roots),'o')\n",
    "plt.plot(perturbed_roots.real,perturbed_roots.imag,'*')\n",
    "plt.show()"
   ]
  },
  {
   "cell_type": "markdown",
   "metadata": {},
   "source": [
    "## Cancelacion catastrofica"
   ]
  },
  {
   "cell_type": "code",
   "execution_count": 5,
   "metadata": {},
   "outputs": [],
   "source": [
    "a=np.sqrt(1+1e20)\n",
    "b=np.sqrt(1e20)"
   ]
  },
  {
   "cell_type": "code",
   "execution_count": 6,
   "metadata": {},
   "outputs": [
    {
     "name": "stdout",
     "output_type": "stream",
     "text": [
      "0.0\n"
     ]
    }
   ],
   "source": [
    "print(a-b)"
   ]
  },
  {
   "cell_type": "code",
   "execution_count": 7,
   "metadata": {},
   "outputs": [
    {
     "name": "stdout",
     "output_type": "stream",
     "text": [
      "5e-11\n"
     ]
    }
   ],
   "source": [
    "print(1/(a+b))"
   ]
  },
  {
   "cell_type": "markdown",
   "metadata": {},
   "source": [
    "## Estabilidad de algoritmos"
   ]
  },
  {
   "cell_type": "code",
   "execution_count": 9,
   "metadata": {},
   "outputs": [
    {
     "data": {
      "image/png": "[encoded data removed]",
      "text/plain": [
       "<Figure size 432x288 with 1 Axes>"
      ]
     },
     "metadata": {},
     "output_type": "display_data"
    }
   ],
   "source": [
    "import numpy as np \n",
    "%matplotlib inline\n",
    "import matplotlib.pyplot as plt\n",
    "n=20\n",
    "r=np.zeros(shape=(n,),dtype='f')\n",
    "p=np.zeros_like(r)\n",
    "q=np.zeros_like(p)\n",
    "r[0]=p[0]=q[0]=1\n",
    "r[1]=p[1]=q[1]=1/3\n",
    "for i in range(1,n-1):\n",
    "    r[i+1]=(1/3)*r[i]\n",
    "    p[i+1]=(4/3)*p[i]-(1/3)*p[i-1]\n",
    "    q[i+1]=(10/3)*q[i]-q[i-1]\n",
    "    \n",
    "plt.plot(range(n), r, '-')\n",
    "plt.plot(range(n), p, '*')\n",
    "plt.plot(range(n), q, 'o')\n",
    "plt.show()"
   ]
  },
  {
   "cell_type": "code",
   "execution_count": null,
   "metadata": {},
   "outputs": [],
   "source": []
  }
 ],
 "metadata": {
  "kernelspec": {
   "display_name": "Python 3",
   "language": "python",
   "name": "python3"
  },
  "language_info": {
   "codemirror_mode": {
    "name": "ipython",
    "version": 3
   },
   "file_extension": ".py",
   "mimetype": "text/x-python",
   "name": "python",
   "nbconvert_exporter": "python",
   "pygments_lexer": "ipython3",
   "version": "3.6.5"
  }
 },
 "nbformat": 4,
 "nbformat_minor": 2
}
