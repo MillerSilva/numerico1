{
 "cells": [
  {
   "cell_type": "markdown",
   "metadata": {},
   "source": [
    "## Algoritmo de Gram–Schmidt clásico."
   ]
  },
  {
   "cell_type": "code",
   "execution_count": 2,
   "metadata": {},
   "outputs": [
    {
     "name": "stdout",
     "output_type": "stream",
     "text": [
      "[[  2.          6.        -19.       ]\n",
      " [  4.          2.          1.9999998]\n",
      " [ -2.         -1.          4.       ]\n",
      " [  1.          3.        -12.       ]]\n"
     ]
    }
   ],
   "source": [
    "import numpy as np\n",
    "def gs(a):\n",
    "    e=np.array(a)    \n",
    "    m= a.shape[0]    \n",
    "    n= a.shape[1]\n",
    "    u=np.zeros((n,n),dtype='f')    \n",
    "    for j in range(n):\n",
    "        for i in range(j-1):\n",
    "            u[i,j]   = e[:,i].dot(a[:,j])\n",
    "            e[:,j] = a[:,j]-u[i,j]*e[:,i]\n",
    "        u[j,j]=np.linalg.norm(e[:,j])\n",
    "        e[:,j]=e[:,j]/u[j,j]\n",
    "    return(u,e)\n",
    "\n",
    "a = np.array([2, 6, -19, 4, 2, 2, -2, -1, 4,1,3,-12],dtype='f').reshape(4,3)\n",
    "(u,e) = gs(a)\n",
    "# Comprobamos la facotrizacion\n",
    "print(e @ u)    \n",
    "        "
   ]
  },
  {
   "cell_type": "markdown",
   "metadata": {},
   "source": [
    "## Algoritmo de Gram–Schmidt modificado."
   ]
  },
  {
   "cell_type": "code",
   "execution_count": 3,
   "metadata": {},
   "outputs": [
    {
     "name": "stdout",
     "output_type": "stream",
     "text": [
      "[[  2.          6.        -19.       ]\n",
      " [  4.          2.          1.9999998]\n",
      " [ -2.         -1.          4.       ]\n",
      " [  1.          3.        -12.       ]]\n"
     ]
    }
   ],
   "source": [
    "import numpy as np\n",
    "def gs(a):\n",
    "    e=np.zeros_like(a)    \n",
    "    m= a.shape[0]    \n",
    "    n= a.shape[1]\n",
    "    u=np.zeros((n,n),dtype='f')    \n",
    "    for j in range(n):\n",
    "        e[:,j] = a[:,j]\n",
    "        for i in range(j-1):\n",
    "            u[i,j]  = e[:,i].dot(e[:,j])\n",
    "            e[:,j]  = e[:,j]-u[i,j]*e[:,i]\n",
    "        u[j,j]=np.linalg.norm(e[:,j])\n",
    "        e[:,j]=e[:,j]/u[j,j]\n",
    "    return(u,e)\n",
    "\n",
    "a = np.array([2, 6, -19, 4, 2, 2, -2, -1, 4,1,3,-12],dtype='f').reshape(4,3)\n",
    "(u,e) = gs(a)\n",
    "# Comprobamos la facotrizacion\n",
    "print(e @ u)    "
   ]
  },
  {
   "cell_type": "code",
   "execution_count": null,
   "metadata": {},
   "outputs": [],
   "source": []
  }
 ],
 "metadata": {
  "kernelspec": {
   "display_name": "Python 3",
   "language": "python",
   "name": "python3"
  },
  "language_info": {
   "codemirror_mode": {
    "name": "ipython",
    "version": 3
   },
   "file_extension": ".py",
   "mimetype": "text/x-python",
   "name": "python",
   "nbconvert_exporter": "python",
   "pygments_lexer": "ipython3",
   "version": "3.6.6"
  }
 },
 "nbformat": 4,
 "nbformat_minor": 2
}
