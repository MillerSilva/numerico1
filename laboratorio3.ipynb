{
 "cells": [
  {
   "cell_type": "markdown",
   "metadata": {},
   "source": [
    "# Factorización LU\n",
    "## Factorización Doolitle\n",
    "\n",
    "A=LU, donde L tiene 1's en la diagonal"
   ]
  },
  {
   "cell_type": "code",
   "execution_count": 10,
   "metadata": {},
   "outputs": [
    {
     "name": "stdout",
     "output_type": "stream",
     "text": [
      "L =\n",
      "   1.000   0.000   0.000\n",
      "   0.500   1.000   0.000\n",
      "   0.125   0.571   1.000\n",
      "U =\n",
      "   8.000   9.000   0.000\n",
      "   0.000   0.875   3.000\n",
      "   0.000   0.000   4.286\n",
      "P =\n",
      "   0.000   0.000   1.000\n",
      "   1.000   0.000   0.000\n",
      "   0.000   1.000   0.000\n"
     ]
    }
   ],
   "source": [
    "import numpy as np\n",
    "\n",
    "def LU(c):\n",
    "    a=np.array(c)\n",
    "    m=np.eye(n)\n",
    "    per=np.eye(n)\n",
    "    for k in range(n-1):\n",
    "        p=k+np.argmax(np.abs(a[k:,k]))\n",
    "        if p != k:\n",
    "            a[[p,k],:]=a[[k,p],:]\n",
    "            per[[p,k],:]=per[[k,p],:]\n",
    "        if np.abs(a[k,k])==0:\n",
    "            print('La matriz es singular')\n",
    "            break\n",
    "        else:\n",
    "            for i in range(k+1,n):\n",
    "                m[i,k]=a[i,k]/a[k,k]\n",
    "                a[i,k:]=a[i,k:]-m[i,k]*a[k,k:]\n",
    "    return(m,a,per)\n",
    "\n",
    "n=3\n",
    "a = np.array([1 ,2 ,3, 4, 5,6,8,9,0],\n",
    "             dtype='f').reshape((n,n))\n",
    "(L,U,P)=LU(a)\n",
    "print('L =\\n'+'\\n'.join([''.join(['{:8.3f}'.format(item) for item in row]) \n",
    "      for row in L]))\n",
    "print('U =\\n'+'\\n'.join([''.join(['{:8.3f}'.format(item) for item in row]) \n",
    "      for row in U]))\n",
    "print('P =\\n'+'\\n'.join([''.join(['{:8.3f}'.format(item) for item in row]) \n",
    "      for row in P]))"
   ]
  },
  {
   "cell_type": "markdown",
   "metadata": {},
   "source": [
    "## Factorización de Crout\n",
    "Realice la factorización de Crout A=LU donde U tiene 1's en la diagonal."
   ]
  },
  {
   "cell_type": "markdown",
   "metadata": {},
   "source": [
    "## Factorización Cholesky\n",
    " A=LL^T"
   ]
  },
  {
   "cell_type": "code",
   "execution_count": 12,
   "metadata": {},
   "outputs": [
    {
     "name": "stdout",
     "output_type": "stream",
     "text": [
      "a =\n",
      "   4.000   2.000   2.000\n",
      "   2.000  17.000  13.000\n",
      "   2.000  13.000  91.000\n",
      "l =\n",
      "   2.000   0.000   0.000\n",
      "   1.000   4.000   0.000\n",
      "   1.000   3.000   9.000\n"
     ]
    }
   ],
   "source": [
    "import numpy as np\n",
    "def cholesky(c):\n",
    "    a=np.array(c)\n",
    "    l=np.zeros_like(a)\n",
    "    l[0,0]=np.sqrt(a[0,0])\n",
    "    l[1:,0]=a[1:,0]/l[0,0]\n",
    "    for j in range(1,n-1):\n",
    "        l[j,j]=np.sqrt(\n",
    "                a[j,j]-np.sum(l[j,0:j]**2))\n",
    "        for i in range(j+1,n):\n",
    "            l[i,j]=(a[i,j]-l[i,0:j].dot(\n",
    "                            l[j,0:j]))/l[j,j]\n",
    "    l[-1,-1]=np.sqrt(a[-1,-1]-np.sum(\n",
    "            l[-1,0:-1]**2))\n",
    "    return(l)\n",
    "\n",
    "n=3\n",
    "a= np.array([2 ,0 ,0, \n",
    "             1, 4, 0,\n",
    "             1, 3, 9],\n",
    "             dtype='f').reshape((n,n))\n",
    "a=a.dot(a.T)\n",
    "print('a =\\n'+'\\n'.join([''.join(['{:8.3f}'.format(item) for item in row]) \n",
    "      for row in a]))\n",
    "l=cholesky(a)\n",
    "print('l =\\n'+'\\n'.join([''.join(['{:8.3f}'.format(item) for item in row]) \n",
    "      for row in l]))"
   ]
  },
  {
   "cell_type": "code",
   "execution_count": null,
   "metadata": {},
   "outputs": [],
   "source": []
  }
 ],
 "metadata": {
  "kernelspec": {
   "display_name": "Python 3",
   "language": "python",
   "name": "python3"
  },
  "language_info": {
   "codemirror_mode": {
    "name": "ipython",
    "version": 3
   },
   "file_extension": ".py",
   "mimetype": "text/x-python",
   "name": "python",
   "nbconvert_exporter": "python",
   "pygments_lexer": "ipython3",
   "version": "3.6.5"
  }
 },
 "nbformat": 4,
 "nbformat_minor": 2
}
