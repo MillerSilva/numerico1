{
 "cells": [
  {
   "cell_type": "code",
   "execution_count": 1,
   "metadata": {},
   "outputs": [
    {
     "name": "stdout",
     "output_type": "stream",
     "text": [
      "FACTORIZACION DOOLITLE\n",
      "L =\n",
      "   1.000   0.000   0.000   0.000\n",
      "   0.750   1.000   0.000   0.000\n",
      "   0.500  -0.286   1.000   0.000\n",
      "   0.250  -0.429   0.333   1.000\n",
      "U =\n",
      "   8.000   7.000   9.000   5.000\n",
      "   0.000   1.750   2.250   4.250\n",
      "   0.000   0.000  -0.857  -0.286\n",
      "   0.000   0.000   0.000   0.667\n",
      "P =\n",
      "   1.000   0.000   0.000   0.000\n",
      "   0.000   1.000   0.000   0.000\n",
      "   0.000   0.000   1.000   0.000\n",
      "   0.000   0.000   0.000   1.000\n",
      "FACTORIZACION CROUT\n",
      "L =\n",
      "   8.000   0.000   0.000   0.000\n",
      "   6.000   1.750   0.000   0.000\n",
      "   4.000  -0.500  -0.857   0.000\n",
      "   2.000  -0.750  -0.286   0.667\n",
      "U =\n",
      "   1.000   0.875   1.125   0.625\n",
      "   0.000   1.000   1.286   2.429\n",
      "   0.000   0.000   1.000   0.333\n",
      "   0.000   0.000   0.000   1.000\n"
     ]
    }
   ],
   "source": [
    "import numpy as np\n",
    "\n",
    "def LU(c):\n",
    "    a=np.array(c)\n",
    "    m=np.eye(n)\n",
    "    per=np.eye(n)\n",
    "    for k in range(n-1):\n",
    "        p=k+np.argmax(np.abs(a[k:,k]))\n",
    "        if p != k:\n",
    "            a[[p,k],:]=a[[k,p],:]\n",
    "            per[[p,k],:]=per[[k,p],:]\n",
    "        if np.abs(a[k,k])==0:\n",
    "            print('La matriz es singular')\n",
    "            break\n",
    "        else:\n",
    "            for i in range(k+1,n):\n",
    "                m[i,k]=a[i,k]/a[k,k]\n",
    "                a[i,k:]=a[i,k:]-m[i,k]*a[k,k:]\n",
    "    return(m,a,per)\n",
    "\n",
    "n=4\n",
    "a = np.array([8,7,9,5,6,7,9,8,4,3,3,1,2,1,1,0],\n",
    "             dtype='f').reshape((n,n))\n",
    "(L,U,P)=LU(a)\n",
    "print('FACTORIZACION DOOLITLE')\n",
    "print('L =\\n'+'\\n'.join([''.join(['{:8.3f}'.format(item) for item in row]) \n",
    "      for row in L]))\n",
    "print('U =\\n'+'\\n'.join([''.join(['{:8.3f}'.format(item) for item in row]) \n",
    "      for row in U]))\n",
    "print('P =\\n'+'\\n'.join([''.join(['{:8.3f}'.format(item) for item in row]) \n",
    "      for row in P]))\n",
    "print('FACTORIZACION CROUT')\n",
    "d=np.ones_like(np.diag(U))/np.diag(U)\n",
    "L2 = L @ np.diag(np.diag(U))\n",
    "U2 = np.diag(d) @ U\n",
    "print('L =\\n'+'\\n'.join([''.join(['{:8.3f}'.format(item) for item in row]) \n",
    "      for row in L2]))\n",
    "print('U =\\n'+'\\n'.join([''.join(['{:8.3f}'.format(item) for item in row]) \n",
    "      for row in U2]))"
   ]
  },
  {
   "cell_type": "code",
   "execution_count": null,
   "metadata": {},
   "outputs": [],
   "source": []
  }
 ],
 "metadata": {
  "kernelspec": {
   "display_name": "Python 3",
   "language": "python",
   "name": "python3"
  },
  "language_info": {
   "codemirror_mode": {
    "name": "ipython",
    "version": 3
   },
   "file_extension": ".py",
   "mimetype": "text/x-python",
   "name": "python",
   "nbconvert_exporter": "python",
   "pygments_lexer": "ipython3",
   "version": "3.6.5"
  }
 },
 "nbformat": 4,
 "nbformat_minor": 2
}
