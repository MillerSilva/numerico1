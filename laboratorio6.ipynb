{
 "cells": [
  {
   "cell_type": "markdown",
   "metadata": {},
   "source": [
    "# Métodos para ecuaciones no lineales"
   ]
  },
  {
   "cell_type": "code",
   "execution_count": 4,
   "metadata": {},
   "outputs": [],
   "source": [
    "import numpy as np"
   ]
  },
  {
   "cell_type": "markdown",
   "metadata": {},
   "source": [
    "## Método de Bisección"
   ]
  },
  {
   "cell_type": "code",
   "execution_count": 1,
   "metadata": {},
   "outputs": [
    {
     "name": "stdout",
     "output_type": "stream",
     "text": [
      "Número de iteraciones = 8\n",
      "Solucion aprox. = 2.236\n"
     ]
    }
   ],
   "source": [
    "def metBiseccion(f,a,b,tol=1E-5):\n",
    "  maxIter=100;sol=None    \n",
    "  fa=f(a);fb=f(b)\n",
    "  if fa*fb<0: # solucion en <a,b>\n",
    "    for i in range(maxIter):\n",
    "      s=0.5*(a+b)\n",
    "      error=(b-a)/2**(i+1)\n",
    "      fs=f(s)\n",
    "      if fs==0 or error<tol:# solucion encontrada\n",
    "        sol=s;break\n",
    "      else:\n",
    "        if fa*fs<0:# solucion en <a,s>\n",
    "          b=s;fb=fs;\n",
    "        else:\n",
    "          a=s;fa=fs;\n",
    "    print(\"Número de iteraciones = {0}\".format(i))\n",
    "    print(\"Solucion aprox. = {0:5.3f}\".format(sol))\n",
    "  else:\n",
    "    print(\"La función no cambia de signo\")\n",
    "  return(sol)\n",
    "\n",
    "f_biseccion = lambda x:x**2-5\n",
    "a = 2.0; b = 3.0;\n",
    "sol = metBiseccion(f_biseccion,a,b)"
   ]
  },
  {
   "cell_type": "markdown",
   "metadata": {},
   "source": [
    "## Método de Newton-Raphson"
   ]
  },
  {
   "cell_type": "code",
   "execution_count": 2,
   "metadata": {},
   "outputs": [
    {
     "name": "stdout",
     "output_type": "stream",
     "text": [
      "Número de iteraciones = 3\n",
      "Solucion aprox. = 2.236\n"
     ]
    }
   ],
   "source": [
    "def metNewton(f,df,a,tol=1E-5):\n",
    "  maxIter=100;sol=None    \n",
    "  fa=f(a);dfa=df(a)  \n",
    "  for i in range(maxIter):\n",
    "    if dfa==0:\n",
    "        print(\"f' es cero en x={0}\".format(a))\n",
    "        break\n",
    "    s = a - fa/dfa\n",
    "    error=abs(s-a)\n",
    "    fs=f(s)\n",
    "    if fs==0 or error<tol:# solucion encontrada\n",
    "      sol=s;break\n",
    "    else:\n",
    "      dfa=df(s);fa=fs;a=s\n",
    "\n",
    "  print(\"Número de iteraciones = {0}\".format(i))\n",
    "  print(\"Solucion aprox. = {0:5.3f}\".format(sol))\n",
    "  return(sol)\n",
    "\n",
    "f_newton = lambda x:x**2-5\n",
    "df_newton = lambda x:2*x\n",
    "a=2.0;\n",
    "sol= metNewton(f_newton,df_newton,a)"
   ]
  },
  {
   "cell_type": "markdown",
   "metadata": {},
   "source": [
    "## Método de la Secante"
   ]
  },
  {
   "cell_type": "code",
   "execution_count": 3,
   "metadata": {},
   "outputs": [
    {
     "name": "stdout",
     "output_type": "stream",
     "text": [
      "Número de iteraciones = 4\n",
      "Solucion aprox. = 2.236\n"
     ]
    }
   ],
   "source": [
    "def metSecante(f,a,b,tol=1E-5):\n",
    "  maxIter=100;sol=None    \n",
    "  fa=f(a);fb=f(b)  \n",
    "  for i in range(maxIter):\n",
    "    s = b - fb*(b-a)/(fb-fa)\n",
    "    error=abs(s-b)\n",
    "    fs=f(s)\n",
    "    if fs==0 or error<tol:# solucion encontrada\n",
    "      sol=s;break\n",
    "    else:\n",
    "        a=b;fa=fb;#actualizamos los puntos\n",
    "        b=s;fb=fs;#para trazar la secante\n",
    "\n",
    "  print(\"Número de iteraciones = {0}\".format(i))\n",
    "  print(\"Solucion aprox. = {0:5.3f}\".format(sol))\n",
    "  return(sol)\n",
    "\n",
    "f_secante = lambda x:x**2-5\n",
    "a=2.0;b=3.0;\n",
    "sol= metSecante(f_secante,a,b)"
   ]
  },
  {
   "cell_type": "markdown",
   "metadata": {},
   "source": [
    "## Método del punto fijo"
   ]
  },
  {
   "cell_type": "code",
   "execution_count": 10,
   "metadata": {},
   "outputs": [
    {
     "ename": "NameError",
     "evalue": "name 'Z' is not defined",
     "output_type": "error",
     "traceback": [
      "\u001b[0;31m---------------------------------------------------------------------------\u001b[0m",
      "\u001b[0;31mNameError\u001b[0m                                 Traceback (most recent call last)",
      "\u001b[0;32mcell_name\u001b[0m in \u001b[0;36masync-def-wrapper\u001b[0;34m()\u001b[0m\n",
      "\u001b[0;31mNameError\u001b[0m: name 'Z' is not defined"
     ]
    }
   ],
   "source": [
    "def metNPuntoFijo(f,a,tol=1E-5):\n",
    "  maxIter=100;sol=None    \n",
    "  fa=f(a);\n",
    "  for i in range(maxIter):\n",
    "    s = fa\n",
    "    error=np.linalg.norm(s-a)\n",
    "    if error<tol:# solucion encontrada\n",
    "      sol=s;break\n",
    "    else:\n",
    "      fa=f(s);a=s\n",
    "\n",
    "  print(\"Número de iteraciones = {0}\".format(i))\n",
    "  return(sol)\n",
    "\n",
    "def f(X):\n",
    "#    Z=np.zeros_like(X);x=X[0];y=X[1];\n",
    "#    Z[0]=(8*x-4*x**2+y**2+1)/8\n",
    "#    Z[1]=(2*x-x**2+4*y-y**2+3)/4        \n",
    "    Z=5/X\n",
    "return(Z)\n",
    "        \n",
    "A=np.array([0.0,0.0])\n",
    "sol= metNPuntoFijo(f,A)\n",
    "if sol is not None:\n",
    "    print(sol)\n",
    "else:\n",
    "    print(\"Metodo de punto fijo no converge\")"
   ]
  },
  {
   "cell_type": "markdown",
   "metadata": {},
   "source": [
    "# Valores propios en Python 3"
   ]
  },
  {
   "cell_type": "code",
   "execution_count": 5,
   "metadata": {},
   "outputs": [
    {
     "name": "stdout",
     "output_type": "stream",
     "text": [
      "1.0\n",
      "1.0\n",
      "0.0\n",
      "[-1.  1.]\n",
      "A=Q*D*Q^T\n",
      "[[-0.59585897 -0.80308909]\n",
      " [-0.80308909  0.59585897]]\n",
      "[-1.  1.]\n"
     ]
    }
   ],
   "source": [
    "from numpy import linalg as LA\n",
    "x = np.random.random()\n",
    "Q = np.array([[np.cos(x), -np.sin(x)],\n",
    "               [np.sin(x), np.cos(x)]])\n",
    "print(LA.norm(Q[0, :]))\n",
    "print(LA.norm(Q[1, :]))\n",
    "print(np.dot(Q[0, :],Q[1, :]))\n",
    "\n",
    "D = np.diag((-1,1))\n",
    "print(LA.eigvals(D))\n",
    "A = np.dot(Q, D)\n",
    "A = np.dot(A, Q.T)\n",
    "print(\"A=Q*D*Q^T\")\n",
    "print(A)\n",
    "print(LA.eigvals(A))"
   ]
  },
  {
   "cell_type": "markdown",
   "metadata": {},
   "source": [
    "## Método de la potencia"
   ]
  },
  {
   "cell_type": "code",
   "execution_count": 6,
   "metadata": {},
   "outputs": [
    {
     "name": "stdout",
     "output_type": "stream",
     "text": [
      "3.439024390243903\n",
      "3.452674897119342\n",
      "3.4117342536669537\n",
      "3.4059178439598554\n",
      "3.3976353501353316\n",
      "3.3951027310406454\n",
      "3.3931703693603406\n",
      "3.392370177019924\n",
      "3.391880358843845\n",
      "3.3916489658379874\n",
      "[ 3.39138238  1.77286556 -1.16424794]\n"
     ]
    }
   ],
   "source": [
    "A = np.array([1, 2, 1, 0, 1, 2,-1, 3, 2])\n",
    "A = A.reshape((3,3))\n",
    "v = np.array([1 , 1, 1])\n",
    "maxIter=10\n",
    "for k in range(maxIter):\n",
    "    y=A.dot(v)\n",
    "    v=(1/LA.norm(y))*y\n",
    "    valprop=v.dot(A.dot(v))\n",
    "    print(valprop)    \n",
    "print(LA.eigvals(A))"
   ]
  },
  {
   "cell_type": "markdown",
   "metadata": {},
   "source": [
    "## Método QR"
   ]
  },
  {
   "cell_type": "code",
   "execution_count": 7,
   "metadata": {},
   "outputs": [
    {
     "name": "stdout",
     "output_type": "stream",
     "text": [
      "[[ 3.39647488e+00  2.42355232e+00  1.70328371e+00]\n",
      " [-3.38707140e-03  1.76578984e+00  4.69188023e-01]\n",
      " [-5.51025224e-05  1.24582411e-02 -1.16226473e+00]]\n",
      "[ 3.39138238  1.77286556 -1.16424794]\n"
     ]
    }
   ],
   "source": [
    "A = np.array([1, 2, 1, 0, 1, 2,\n",
    "              -1, 3, 2])\n",
    "A = A.reshape((3,3))\n",
    "maxIter=10\n",
    "for k in range(maxIter):\n",
    "   (Q, R) = LA.qr(A)   \n",
    "   A = R.dot(Q)\n",
    "print(A)\n",
    "print(LA.eigvals(A))"
   ]
  },
  {
   "cell_type": "code",
   "execution_count": null,
   "metadata": {},
   "outputs": [],
   "source": []
  }
 ],
 "metadata": {
  "kernelspec": {
   "display_name": "Python 3",
   "language": "python",
   "name": "python3"
  },
  "language_info": {
   "codemirror_mode": {
    "name": "ipython",
    "version": 3
   },
   "file_extension": ".py",
   "mimetype": "text/x-python",
   "name": "python",
   "nbconvert_exporter": "python",
   "pygments_lexer": "ipython3",
   "version": "3.6.6"
  }
 },
 "nbformat": 4,
 "nbformat_minor": 2
}
